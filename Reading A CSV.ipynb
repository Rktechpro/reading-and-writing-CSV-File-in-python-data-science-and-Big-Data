{
 "cells": [
  {
   "cell_type": "code",
   "execution_count": 1,
   "id": "452a8660",
   "metadata": {},
   "outputs": [],
   "source": [
    "import pandas as pd"
   ]
  },
  {
   "cell_type": "markdown",
   "id": "3d78aa49",
   "metadata": {},
   "source": [
    "# Read and CSV"
   ]
  },
  {
   "cell_type": "code",
   "execution_count": 2,
   "id": "5c9d74b8",
   "metadata": {},
   "outputs": [],
   "source": [
    "df=pd.read_csv('data.csv')"
   ]
  },
  {
   "cell_type": "code",
   "execution_count": 3,
   "id": "c9272a8d",
   "metadata": {},
   "outputs": [
    {
     "data": {
      "text/html": [
       "<div>\n",
       "<style scoped>\n",
       "    .dataframe tbody tr th:only-of-type {\n",
       "        vertical-align: middle;\n",
       "    }\n",
       "\n",
       "    .dataframe tbody tr th {\n",
       "        vertical-align: top;\n",
       "    }\n",
       "\n",
       "    .dataframe thead th {\n",
       "        text-align: right;\n",
       "    }\n",
       "</style>\n",
       "<table border=\"1\" class=\"dataframe\">\n",
       "  <thead>\n",
       "    <tr style=\"text-align: right;\">\n",
       "      <th></th>\n",
       "      <th>SYMBOL</th>\n",
       "      <th>SERIES</th>\n",
       "      <th>DATE1</th>\n",
       "      <th>PREV_CLOSE</th>\n",
       "      <th>OPEN_PRICE</th>\n",
       "      <th>HIGH_PRICE</th>\n",
       "      <th>LOW_PRICE</th>\n",
       "      <th>LAST_PRICE</th>\n",
       "      <th>CLOSE_PRICE</th>\n",
       "      <th>AVG_PRICE</th>\n",
       "      <th>TTL_TRD_QNTY</th>\n",
       "      <th>TURNOVER_LACS</th>\n",
       "      <th>NO_OF_TRADES</th>\n",
       "      <th>DELIV_QTY</th>\n",
       "      <th>DELIV_PER</th>\n",
       "    </tr>\n",
       "  </thead>\n",
       "  <tbody>\n",
       "    <tr>\n",
       "      <th>0</th>\n",
       "      <td>20MICRONS</td>\n",
       "      <td>EQ</td>\n",
       "      <td>02-Mar-2022</td>\n",
       "      <td>71.20</td>\n",
       "      <td>70.10</td>\n",
       "      <td>73.60</td>\n",
       "      <td>70.1</td>\n",
       "      <td>72.05</td>\n",
       "      <td>71.85</td>\n",
       "      <td>71.99</td>\n",
       "      <td>219912</td>\n",
       "      <td>158.31</td>\n",
       "      <td>2642</td>\n",
       "      <td>115094</td>\n",
       "      <td>52.34</td>\n",
       "    </tr>\n",
       "    <tr>\n",
       "      <th>1</th>\n",
       "      <td>21STCENMGM</td>\n",
       "      <td>EQ</td>\n",
       "      <td>02-Mar-2022</td>\n",
       "      <td>30.20</td>\n",
       "      <td>29.60</td>\n",
       "      <td>29.60</td>\n",
       "      <td>29.6</td>\n",
       "      <td>29.6</td>\n",
       "      <td>29.60</td>\n",
       "      <td>29.60</td>\n",
       "      <td>1209</td>\n",
       "      <td>0.36</td>\n",
       "      <td>45</td>\n",
       "      <td>1209</td>\n",
       "      <td>100</td>\n",
       "    </tr>\n",
       "    <tr>\n",
       "      <th>2</th>\n",
       "      <td>3IINFOLTD</td>\n",
       "      <td>EQ</td>\n",
       "      <td>02-Mar-2022</td>\n",
       "      <td>51.45</td>\n",
       "      <td>51.05</td>\n",
       "      <td>51.35</td>\n",
       "      <td>49.1</td>\n",
       "      <td>49.4</td>\n",
       "      <td>49.45</td>\n",
       "      <td>50.01</td>\n",
       "      <td>1092731</td>\n",
       "      <td>546.43</td>\n",
       "      <td>7273</td>\n",
       "      <td>625130</td>\n",
       "      <td>57.21</td>\n",
       "    </tr>\n",
       "    <tr>\n",
       "      <th>3</th>\n",
       "      <td>3MINDIA</td>\n",
       "      <td>EQ</td>\n",
       "      <td>02-Mar-2022</td>\n",
       "      <td>21208.40</td>\n",
       "      <td>21480.00</td>\n",
       "      <td>21480.00</td>\n",
       "      <td>20730.0</td>\n",
       "      <td>20925</td>\n",
       "      <td>20923.10</td>\n",
       "      <td>21006.28</td>\n",
       "      <td>1823</td>\n",
       "      <td>382.94</td>\n",
       "      <td>1120</td>\n",
       "      <td>1137</td>\n",
       "      <td>62.37</td>\n",
       "    </tr>\n",
       "    <tr>\n",
       "      <th>4</th>\n",
       "      <td>3PLAND</td>\n",
       "      <td>BE</td>\n",
       "      <td>02-Mar-2022</td>\n",
       "      <td>15.55</td>\n",
       "      <td>15.90</td>\n",
       "      <td>16.15</td>\n",
       "      <td>14.8</td>\n",
       "      <td>15.65</td>\n",
       "      <td>15.50</td>\n",
       "      <td>15.46</td>\n",
       "      <td>8318</td>\n",
       "      <td>1.29</td>\n",
       "      <td>70</td>\n",
       "      <td>-</td>\n",
       "      <td>-</td>\n",
       "    </tr>\n",
       "  </tbody>\n",
       "</table>\n",
       "</div>"
      ],
      "text/plain": [
       "       SYMBOL SERIES         DATE1  PREV_CLOSE  OPEN_PRICE  HIGH_PRICE  \\\n",
       "0   20MICRONS     EQ   02-Mar-2022       71.20       70.10       73.60   \n",
       "1  21STCENMGM     EQ   02-Mar-2022       30.20       29.60       29.60   \n",
       "2   3IINFOLTD     EQ   02-Mar-2022       51.45       51.05       51.35   \n",
       "3     3MINDIA     EQ   02-Mar-2022    21208.40    21480.00    21480.00   \n",
       "4      3PLAND     BE   02-Mar-2022       15.55       15.90       16.15   \n",
       "\n",
       "   LOW_PRICE LAST_PRICE  CLOSE_PRICE  AVG_PRICE  TTL_TRD_QNTY  TURNOVER_LACS  \\\n",
       "0       70.1      72.05        71.85      71.99        219912         158.31   \n",
       "1       29.6       29.6        29.60      29.60          1209           0.36   \n",
       "2       49.1       49.4        49.45      50.01       1092731         546.43   \n",
       "3    20730.0      20925     20923.10   21006.28          1823         382.94   \n",
       "4       14.8      15.65        15.50      15.46          8318           1.29   \n",
       "\n",
       "   NO_OF_TRADES DELIV_QTY DELIV_PER  \n",
       "0          2642    115094     52.34  \n",
       "1            45      1209       100  \n",
       "2          7273    625130     57.21  \n",
       "3          1120      1137     62.37  \n",
       "4            70         -         -  "
      ]
     },
     "execution_count": 3,
     "metadata": {},
     "output_type": "execute_result"
    }
   ],
   "source": [
    "df.head()"
   ]
  },
  {
   "cell_type": "code",
   "execution_count": 4,
   "id": "84f8fc56",
   "metadata": {},
   "outputs": [
    {
     "name": "stdout",
     "output_type": "stream",
     "text": [
      "float64\n"
     ]
    }
   ],
   "source": [
    "print(df['PREV_CLOSE'].dtype)"
   ]
  },
  {
   "cell_type": "code",
   "execution_count": 5,
   "id": "90c07364",
   "metadata": {},
   "outputs": [
    {
     "name": "stdout",
     "output_type": "stream",
     "text": [
      "int64\n"
     ]
    }
   ],
   "source": [
    "print(df['TTL_TRD_QNTY'].dtype)"
   ]
  },
  {
   "cell_type": "code",
   "execution_count": 6,
   "id": "08489e81",
   "metadata": {},
   "outputs": [
    {
     "name": "stdout",
     "output_type": "stream",
     "text": [
      "0        EQ\n",
      "1        EQ\n",
      "2        EQ\n",
      "3        EQ\n",
      "4        BE\n",
      "       ... \n",
      "2189     EQ\n",
      "2190     EQ\n",
      "2191     EQ\n",
      "2192     EQ\n",
      "2193     EQ\n",
      "Name: SERIES, Length: 2194, dtype: category\n",
      "Categories (70, object): [' BE', ' BZ', ' E1', ' EQ', ..., ' ZA', ' ZF', ' ZG', ' ZK']\n"
     ]
    }
   ],
   "source": [
    "print(df['SERIES'].astype('category'))"
   ]
  },
  {
   "cell_type": "markdown",
   "id": "465fe227",
   "metadata": {},
   "source": [
    "# writing A CSV"
   ]
  },
  {
   "cell_type": "code",
   "execution_count": 7,
   "id": "f28233d1",
   "metadata": {},
   "outputs": [],
   "source": [
    "df1=pd.DataFrame([[1,2,3,4],[5,6,7,8],[2,7,3,33],[3,6,8,23],[23,23,63,12]],columns=['A1','B1','C1','D1'])"
   ]
  },
  {
   "cell_type": "code",
   "execution_count": 8,
   "id": "c44cda39",
   "metadata": {},
   "outputs": [
    {
     "data": {
      "text/html": [
       "<div>\n",
       "<style scoped>\n",
       "    .dataframe tbody tr th:only-of-type {\n",
       "        vertical-align: middle;\n",
       "    }\n",
       "\n",
       "    .dataframe tbody tr th {\n",
       "        vertical-align: top;\n",
       "    }\n",
       "\n",
       "    .dataframe thead th {\n",
       "        text-align: right;\n",
       "    }\n",
       "</style>\n",
       "<table border=\"1\" class=\"dataframe\">\n",
       "  <thead>\n",
       "    <tr style=\"text-align: right;\">\n",
       "      <th></th>\n",
       "      <th>A1</th>\n",
       "      <th>B1</th>\n",
       "      <th>C1</th>\n",
       "      <th>D1</th>\n",
       "    </tr>\n",
       "  </thead>\n",
       "  <tbody>\n",
       "    <tr>\n",
       "      <th>0</th>\n",
       "      <td>1</td>\n",
       "      <td>2</td>\n",
       "      <td>3</td>\n",
       "      <td>4</td>\n",
       "    </tr>\n",
       "    <tr>\n",
       "      <th>1</th>\n",
       "      <td>5</td>\n",
       "      <td>6</td>\n",
       "      <td>7</td>\n",
       "      <td>8</td>\n",
       "    </tr>\n",
       "    <tr>\n",
       "      <th>2</th>\n",
       "      <td>2</td>\n",
       "      <td>7</td>\n",
       "      <td>3</td>\n",
       "      <td>33</td>\n",
       "    </tr>\n",
       "    <tr>\n",
       "      <th>3</th>\n",
       "      <td>3</td>\n",
       "      <td>6</td>\n",
       "      <td>8</td>\n",
       "      <td>23</td>\n",
       "    </tr>\n",
       "    <tr>\n",
       "      <th>4</th>\n",
       "      <td>23</td>\n",
       "      <td>23</td>\n",
       "      <td>63</td>\n",
       "      <td>12</td>\n",
       "    </tr>\n",
       "  </tbody>\n",
       "</table>\n",
       "</div>"
      ],
      "text/plain": [
       "   A1  B1  C1  D1\n",
       "0   1   2   3   4\n",
       "1   5   6   7   8\n",
       "2   2   7   3  33\n",
       "3   3   6   8  23\n",
       "4  23  23  63  12"
      ]
     },
     "execution_count": 8,
     "metadata": {},
     "output_type": "execute_result"
    }
   ],
   "source": [
    "df1.head()"
   ]
  },
  {
   "cell_type": "code",
   "execution_count": 9,
   "id": "224e8e5c",
   "metadata": {},
   "outputs": [],
   "source": [
    "\n",
    "df1.to_csv('export.csv',index=False)"
   ]
  },
  {
   "cell_type": "code",
   "execution_count": 10,
   "id": "3f7d6e9a",
   "metadata": {},
   "outputs": [],
   "source": [
    "df1.to_csv('export.csv',header=bool)"
   ]
  },
  {
   "cell_type": "code",
   "execution_count": 11,
   "id": "f0f04ee2",
   "metadata": {},
   "outputs": [],
   "source": [
    "df1.to_csv('export.csv',compression='infer')"
   ]
  },
  {
   "cell_type": "code",
   "execution_count": null,
   "id": "d6a7fdc5",
   "metadata": {},
   "outputs": [],
   "source": []
  }
 ],
 "metadata": {
  "kernelspec": {
   "display_name": "Python 3 (ipykernel)",
   "language": "python",
   "name": "python3"
  },
  "language_info": {
   "codemirror_mode": {
    "name": "ipython",
    "version": 3
   },
   "file_extension": ".py",
   "mimetype": "text/x-python",
   "name": "python",
   "nbconvert_exporter": "python",
   "pygments_lexer": "ipython3",
   "version": "3.10.1"
  }
 },
 "nbformat": 4,
 "nbformat_minor": 5
}
